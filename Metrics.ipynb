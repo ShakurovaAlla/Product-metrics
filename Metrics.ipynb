{
 "cells": [
  {
   "cell_type": "code",
   "execution_count": 61,
   "id": "708ff6b2",
   "metadata": {},
   "outputs": [],
   "source": [
    "import pandas as pd\n",
    "import numpy as np\n",
    "import seaborn as sns\n",
    "import matplotlib.pyplot as plt\n",
    "import scipy.stats as ss\n",
    "import pingouin as pg\n",
    "import warnings\n",
    "warnings.filterwarnings(\"ignore\")\n",
    "\n",
    "\n",
    "sns.set(rc={'figure.figsize': (10, 6)})"
   ]
  },
  {
   "cell_type": "code",
   "execution_count": 3,
   "id": "e16b8175",
   "metadata": {},
   "outputs": [],
   "source": [
    "# Считываем данные\n",
    "df = pd.read_csv('KC_case_data.csv', parse_dates=['date'])"
   ]
  },
  {
   "cell_type": "code",
   "execution_count": 4,
   "id": "f5aca97d",
   "metadata": {},
   "outputs": [
    {
     "data": {
      "text/html": [
       "<div>\n",
       "<style scoped>\n",
       "    .dataframe tbody tr th:only-of-type {\n",
       "        vertical-align: middle;\n",
       "    }\n",
       "\n",
       "    .dataframe tbody tr th {\n",
       "        vertical-align: top;\n",
       "    }\n",
       "\n",
       "    .dataframe thead th {\n",
       "        text-align: right;\n",
       "    }\n",
       "</style>\n",
       "<table border=\"1\" class=\"dataframe\">\n",
       "  <thead>\n",
       "    <tr style=\"text-align: right;\">\n",
       "      <th></th>\n",
       "      <th>date</th>\n",
       "      <th>event</th>\n",
       "      <th>purchase_sum</th>\n",
       "      <th>os_name</th>\n",
       "      <th>device_id</th>\n",
       "      <th>gender</th>\n",
       "      <th>city</th>\n",
       "      <th>utm_source</th>\n",
       "    </tr>\n",
       "  </thead>\n",
       "  <tbody>\n",
       "    <tr>\n",
       "      <th>0</th>\n",
       "      <td>2020-01-01</td>\n",
       "      <td>app_start</td>\n",
       "      <td>NaN</td>\n",
       "      <td>android</td>\n",
       "      <td>669460</td>\n",
       "      <td>female</td>\n",
       "      <td>Moscow</td>\n",
       "      <td>-</td>\n",
       "    </tr>\n",
       "    <tr>\n",
       "      <th>1</th>\n",
       "      <td>2020-01-01</td>\n",
       "      <td>app_start</td>\n",
       "      <td>NaN</td>\n",
       "      <td>ios</td>\n",
       "      <td>833621</td>\n",
       "      <td>male</td>\n",
       "      <td>Moscow</td>\n",
       "      <td>vk_ads</td>\n",
       "    </tr>\n",
       "    <tr>\n",
       "      <th>2</th>\n",
       "      <td>2020-01-01</td>\n",
       "      <td>app_start</td>\n",
       "      <td>NaN</td>\n",
       "      <td>android</td>\n",
       "      <td>1579237</td>\n",
       "      <td>male</td>\n",
       "      <td>Saint-Petersburg</td>\n",
       "      <td>referal</td>\n",
       "    </tr>\n",
       "    <tr>\n",
       "      <th>3</th>\n",
       "      <td>2020-01-01</td>\n",
       "      <td>app_start</td>\n",
       "      <td>NaN</td>\n",
       "      <td>android</td>\n",
       "      <td>1737182</td>\n",
       "      <td>female</td>\n",
       "      <td>Moscow</td>\n",
       "      <td>facebook_ads</td>\n",
       "    </tr>\n",
       "    <tr>\n",
       "      <th>4</th>\n",
       "      <td>2020-01-01</td>\n",
       "      <td>app_start</td>\n",
       "      <td>NaN</td>\n",
       "      <td>ios</td>\n",
       "      <td>4029024</td>\n",
       "      <td>female</td>\n",
       "      <td>Moscow</td>\n",
       "      <td>facebook_ads</td>\n",
       "    </tr>\n",
       "  </tbody>\n",
       "</table>\n",
       "</div>"
      ],
      "text/plain": [
       "        date      event  purchase_sum  os_name  device_id  gender  \\\n",
       "0 2020-01-01  app_start           NaN  android     669460  female   \n",
       "1 2020-01-01  app_start           NaN      ios     833621    male   \n",
       "2 2020-01-01  app_start           NaN  android    1579237    male   \n",
       "3 2020-01-01  app_start           NaN  android    1737182  female   \n",
       "4 2020-01-01  app_start           NaN      ios    4029024  female   \n",
       "\n",
       "               city    utm_source  \n",
       "0            Moscow             -  \n",
       "1            Moscow        vk_ads  \n",
       "2  Saint-Petersburg       referal  \n",
       "3            Moscow  facebook_ads  \n",
       "4            Moscow  facebook_ads  "
      ]
     },
     "execution_count": 4,
     "metadata": {},
     "output_type": "execute_result"
    }
   ],
   "source": [
    "df.head()"
   ]
  },
  {
   "cell_type": "code",
   "execution_count": 5,
   "id": "fe58410f",
   "metadata": {},
   "outputs": [
    {
     "data": {
      "text/plain": [
       "(2747968, 8)"
      ]
     },
     "execution_count": 5,
     "metadata": {},
     "output_type": "execute_result"
    }
   ],
   "source": [
    "# Посмотрим на количество строк и столбцов\n",
    "df.shape"
   ]
  },
  {
   "cell_type": "code",
   "execution_count": 6,
   "id": "84d04c3b",
   "metadata": {},
   "outputs": [
    {
     "data": {
      "text/plain": [
       "date                  0\n",
       "event                 0\n",
       "purchase_sum    2606585\n",
       "os_name               0\n",
       "device_id             0\n",
       "gender                0\n",
       "city                  0\n",
       "utm_source            0\n",
       "dtype: int64"
      ]
     },
     "execution_count": 6,
     "metadata": {},
     "output_type": "execute_result"
    }
   ],
   "source": [
    "# Посмотрим на пропуски \n",
    "df.isna().sum()"
   ]
  },
  {
   "cell_type": "code",
   "execution_count": 7,
   "id": "42693ffe",
   "metadata": {},
   "outputs": [
    {
     "data": {
      "text/plain": [
       "date            datetime64[ns]\n",
       "event                   object\n",
       "purchase_sum           float64\n",
       "os_name                 object\n",
       "device_id                int64\n",
       "gender                  object\n",
       "city                    object\n",
       "utm_source              object\n",
       "dtype: object"
      ]
     },
     "execution_count": 7,
     "metadata": {},
     "output_type": "execute_result"
    }
   ],
   "source": [
    "# Посмотрим на типы данных\n",
    "df.dtypes"
   ]
  },
  {
   "cell_type": "code",
   "execution_count": 8,
   "id": "6c3b225c",
   "metadata": {},
   "outputs": [
    {
     "data": {
      "text/plain": [
       "Text(0.5, 1.0, 'Распределение по городам')"
      ]
     },
     "execution_count": 8,
     "metadata": {},
     "output_type": "execute_result"
    },
    {
     "data": {
      "image/png": "[encoded data removed]",
      "text/plain": [
       "<Figure size 1500x500 with 3 Axes>"
      ]
     },
     "metadata": {},
     "output_type": "display_data"
    }
   ],
   "source": [
    "# Посмотрим на распределение пользователей по платформе, полу и городам\n",
    "fig, axs = plt.subplots(ncols=3, figsize=(15, 5))\n",
    "\n",
    "# Распределение по платформам\n",
    "sns.histplot(df.os_name, color='green', alpha=0.5, ax=axs[0])\n",
    "axs[0].set_title('Распределение по платформам')\n",
    "\n",
    "# Распределение по полу\n",
    "sns.histplot(df.gender, color='green', alpha=0.5, ax=axs[1])\n",
    "axs[1].set_title('Распределение по полу')\n",
    "\n",
    "# Распределение по городам\n",
    "sns.histplot(df.city, color='green', alpha=0.5, ax=axs[2])\n",
    "axs[2].set_title('Распределение по городам')"
   ]
  },
  {
   "cell_type": "code",
   "execution_count": 9,
   "id": "ed8978ed",
   "metadata": {},
   "outputs": [
    {
     "data": {
      "text/html": [
       "<div>\n",
       "<style scoped>\n",
       "    .dataframe tbody tr th:only-of-type {\n",
       "        vertical-align: middle;\n",
       "    }\n",
       "\n",
       "    .dataframe tbody tr th {\n",
       "        vertical-align: top;\n",
       "    }\n",
       "\n",
       "    .dataframe thead th {\n",
       "        text-align: right;\n",
       "    }\n",
       "</style>\n",
       "<table border=\"1\" class=\"dataframe\">\n",
       "  <thead>\n",
       "    <tr style=\"text-align: right;\">\n",
       "      <th></th>\n",
       "      <th>Source</th>\n",
       "      <th>SS</th>\n",
       "      <th>DF</th>\n",
       "      <th>MS</th>\n",
       "      <th>F</th>\n",
       "      <th>p-unc</th>\n",
       "      <th>np2</th>\n",
       "    </tr>\n",
       "  </thead>\n",
       "  <tbody>\n",
       "    <tr>\n",
       "      <th>0</th>\n",
       "      <td>os_name</td>\n",
       "      <td>3.621974e+04</td>\n",
       "      <td>1.0</td>\n",
       "      <td>3.621974e+04</td>\n",
       "      <td>0.021783</td>\n",
       "      <td>0.882667</td>\n",
       "      <td>1.540780e-07</td>\n",
       "    </tr>\n",
       "    <tr>\n",
       "      <th>1</th>\n",
       "      <td>gender</td>\n",
       "      <td>5.995796e+04</td>\n",
       "      <td>1.0</td>\n",
       "      <td>5.995796e+04</td>\n",
       "      <td>0.036059</td>\n",
       "      <td>0.849394</td>\n",
       "      <td>2.550598e-07</td>\n",
       "    </tr>\n",
       "    <tr>\n",
       "      <th>2</th>\n",
       "      <td>city</td>\n",
       "      <td>2.193665e+05</td>\n",
       "      <td>1.0</td>\n",
       "      <td>2.193665e+05</td>\n",
       "      <td>0.131928</td>\n",
       "      <td>0.716441</td>\n",
       "      <td>9.331797e-07</td>\n",
       "    </tr>\n",
       "    <tr>\n",
       "      <th>3</th>\n",
       "      <td>os_name * gender</td>\n",
       "      <td>3.998545e+04</td>\n",
       "      <td>1.0</td>\n",
       "      <td>3.998545e+04</td>\n",
       "      <td>0.024047</td>\n",
       "      <td>0.876764</td>\n",
       "      <td>1.700972e-07</td>\n",
       "    </tr>\n",
       "    <tr>\n",
       "      <th>4</th>\n",
       "      <td>os_name * city</td>\n",
       "      <td>5.060708e+04</td>\n",
       "      <td>1.0</td>\n",
       "      <td>5.060708e+04</td>\n",
       "      <td>0.030435</td>\n",
       "      <td>0.861506</td>\n",
       "      <td>2.152814e-07</td>\n",
       "    </tr>\n",
       "    <tr>\n",
       "      <th>5</th>\n",
       "      <td>gender * city</td>\n",
       "      <td>6.060130e+05</td>\n",
       "      <td>1.0</td>\n",
       "      <td>6.060130e+05</td>\n",
       "      <td>0.364460</td>\n",
       "      <td>0.546041</td>\n",
       "      <td>2.577960e-06</td>\n",
       "    </tr>\n",
       "    <tr>\n",
       "      <th>6</th>\n",
       "      <td>os_name * gender * city</td>\n",
       "      <td>1.082008e+06</td>\n",
       "      <td>1.0</td>\n",
       "      <td>1.082008e+06</td>\n",
       "      <td>0.650726</td>\n",
       "      <td>0.419855</td>\n",
       "      <td>4.602816e-06</td>\n",
       "    </tr>\n",
       "    <tr>\n",
       "      <th>7</th>\n",
       "      <td>Residual</td>\n",
       "      <td>2.350741e+11</td>\n",
       "      <td>141375.0</td>\n",
       "      <td>1.662770e+06</td>\n",
       "      <td>NaN</td>\n",
       "      <td>NaN</td>\n",
       "      <td>NaN</td>\n",
       "    </tr>\n",
       "  </tbody>\n",
       "</table>\n",
       "</div>"
      ],
      "text/plain": [
       "                    Source            SS        DF            MS         F  \\\n",
       "0                  os_name  3.621974e+04       1.0  3.621974e+04  0.021783   \n",
       "1                   gender  5.995796e+04       1.0  5.995796e+04  0.036059   \n",
       "2                     city  2.193665e+05       1.0  2.193665e+05  0.131928   \n",
       "3         os_name * gender  3.998545e+04       1.0  3.998545e+04  0.024047   \n",
       "4           os_name * city  5.060708e+04       1.0  5.060708e+04  0.030435   \n",
       "5            gender * city  6.060130e+05       1.0  6.060130e+05  0.364460   \n",
       "6  os_name * gender * city  1.082008e+06       1.0  1.082008e+06  0.650726   \n",
       "7                 Residual  2.350741e+11  141375.0  1.662770e+06       NaN   \n",
       "\n",
       "      p-unc           np2  \n",
       "0  0.882667  1.540780e-07  \n",
       "1  0.849394  2.550598e-07  \n",
       "2  0.716441  9.331797e-07  \n",
       "3  0.876764  1.700972e-07  \n",
       "4  0.861506  2.152814e-07  \n",
       "5  0.546041  2.577960e-06  \n",
       "6  0.419855  4.602816e-06  \n",
       "7       NaN           NaN  "
      ]
     },
     "execution_count": 9,
     "metadata": {},
     "output_type": "execute_result"
    }
   ],
   "source": [
    "# С помощью многофакторного дисперсионного анализа можно посмотреть влияние факторов (платформа, пол и город) на сумму трат.\n",
    "pg.anova(data=df[df.purchase_sum.notna()], dv='purchase_sum', between=['os_name', 'gender', 'city'])"
   ]
  },
  {
   "cell_type": "code",
   "execution_count": 10,
   "id": "14aedf67",
   "metadata": {},
   "outputs": [],
   "source": [
    "# Исследуемые факторы (платформа, пол и город) не оказали значимого влияния."
   ]
  },
  {
   "cell_type": "code",
   "execution_count": 11,
   "id": "5681d497",
   "metadata": {},
   "outputs": [
    {
     "data": {
      "text/plain": [
       "<Axes: xlabel='utm_source', ylabel='purchase_sum'>"
      ]
     },
     "execution_count": 11,
     "metadata": {},
     "output_type": "execute_result"
    },
    {
     "data": {
      "image/png": "[encoded data removed]",
      "text/plain": [
       "<Figure size 1000x600 with 1 Axes>"
      ]
     },
     "metadata": {},
     "output_type": "display_data"
    }
   ],
   "source": [
    "# Посмотрим какие рекламные компании принесли больше всего дохода с пользователей\n",
    "df1 = df.groupby('utm_source')['purchase_sum'].sum().reset_index()\n",
    "sns.barplot(x='utm_source', y='purchase_sum', width=0.5, data=df1)"
   ]
  },
  {
   "cell_type": "code",
   "execution_count": 12,
   "id": "dbc0987e",
   "metadata": {},
   "outputs": [],
   "source": [
    "# Создадим новую колонку и поместим туда номер месяца\n",
    "df['month'] = df['date'].dt.month"
   ]
  },
  {
   "cell_type": "code",
   "execution_count": 13,
   "id": "23ef4703",
   "metadata": {},
   "outputs": [
    {
     "data": {
      "text/html": [
       "<div>\n",
       "<style scoped>\n",
       "    .dataframe tbody tr th:only-of-type {\n",
       "        vertical-align: middle;\n",
       "    }\n",
       "\n",
       "    .dataframe tbody tr th {\n",
       "        vertical-align: top;\n",
       "    }\n",
       "\n",
       "    .dataframe thead th {\n",
       "        text-align: right;\n",
       "    }\n",
       "</style>\n",
       "<table border=\"1\" class=\"dataframe\">\n",
       "  <thead>\n",
       "    <tr style=\"text-align: right;\">\n",
       "      <th></th>\n",
       "      <th>month</th>\n",
       "      <th>device_id</th>\n",
       "    </tr>\n",
       "  </thead>\n",
       "  <tbody>\n",
       "    <tr>\n",
       "      <th>0</th>\n",
       "      <td>1</td>\n",
       "      <td>99161</td>\n",
       "    </tr>\n",
       "    <tr>\n",
       "      <th>1</th>\n",
       "      <td>2</td>\n",
       "      <td>75032</td>\n",
       "    </tr>\n",
       "    <tr>\n",
       "      <th>2</th>\n",
       "      <td>3</td>\n",
       "      <td>74623</td>\n",
       "    </tr>\n",
       "  </tbody>\n",
       "</table>\n",
       "</div>"
      ],
      "text/plain": [
       "   month  device_id\n",
       "0      1      99161\n",
       "1      2      75032\n",
       "2      3      74623"
      ]
     },
     "execution_count": 13,
     "metadata": {},
     "output_type": "execute_result"
    }
   ],
   "source": [
    "# Посчитаем MAU \n",
    "df.groupby('month').agg({'device_id': 'nunique'}).reset_index()"
   ]
  },
  {
   "cell_type": "code",
   "execution_count": 14,
   "id": "c5496835",
   "metadata": {},
   "outputs": [
    {
     "data": {
      "text/plain": [
       "<Axes: xlabel='month', ylabel='device_id'>"
      ]
     },
     "execution_count": 14,
     "metadata": {},
     "output_type": "execute_result"
    },
    {
     "data": {
      "image/png": "[encoded data removed]",
      "text/plain": [
       "<Figure size 1000x600 with 1 Axes>"
      ]
     },
     "metadata": {},
     "output_type": "display_data"
    }
   ],
   "source": [
    "# Визуализируем MAU\n",
    "sns.barplot(x='month', y='device_id', width=0.5, data=df)"
   ]
  },
  {
   "cell_type": "code",
   "execution_count": 15,
   "id": "431c29fd",
   "metadata": {},
   "outputs": [],
   "source": [
    "# Посчитаем DAU \n",
    "dau = df.groupby('date').agg({'device_id': 'nunique'}).reset_index()"
   ]
  },
  {
   "cell_type": "code",
   "execution_count": 16,
   "id": "c0987329",
   "metadata": {},
   "outputs": [
    {
     "data": {
      "text/html": [
       "<div>\n",
       "<style scoped>\n",
       "    .dataframe tbody tr th:only-of-type {\n",
       "        vertical-align: middle;\n",
       "    }\n",
       "\n",
       "    .dataframe tbody tr th {\n",
       "        vertical-align: top;\n",
       "    }\n",
       "\n",
       "    .dataframe thead th {\n",
       "        text-align: right;\n",
       "    }\n",
       "</style>\n",
       "<table border=\"1\" class=\"dataframe\">\n",
       "  <thead>\n",
       "    <tr style=\"text-align: right;\">\n",
       "      <th></th>\n",
       "      <th>date</th>\n",
       "      <th>device_id</th>\n",
       "    </tr>\n",
       "  </thead>\n",
       "  <tbody>\n",
       "    <tr>\n",
       "      <th>0</th>\n",
       "      <td>2020-01-01</td>\n",
       "      <td>4445</td>\n",
       "    </tr>\n",
       "    <tr>\n",
       "      <th>1</th>\n",
       "      <td>2020-01-02</td>\n",
       "      <td>5104</td>\n",
       "    </tr>\n",
       "    <tr>\n",
       "      <th>2</th>\n",
       "      <td>2020-01-03</td>\n",
       "      <td>5144</td>\n",
       "    </tr>\n",
       "    <tr>\n",
       "      <th>3</th>\n",
       "      <td>2020-01-04</td>\n",
       "      <td>4925</td>\n",
       "    </tr>\n",
       "    <tr>\n",
       "      <th>4</th>\n",
       "      <td>2020-01-05</td>\n",
       "      <td>5608</td>\n",
       "    </tr>\n",
       "  </tbody>\n",
       "</table>\n",
       "</div>"
      ],
      "text/plain": [
       "        date  device_id\n",
       "0 2020-01-01       4445\n",
       "1 2020-01-02       5104\n",
       "2 2020-01-03       5144\n",
       "3 2020-01-04       4925\n",
       "4 2020-01-05       5608"
      ]
     },
     "execution_count": 16,
     "metadata": {},
     "output_type": "execute_result"
    }
   ],
   "source": [
    "dau.head()"
   ]
  },
  {
   "cell_type": "code",
   "execution_count": 17,
   "id": "fcf3dd9c",
   "metadata": {},
   "outputs": [
    {
     "data": {
      "text/plain": [
       "<Axes: xlabel='date', ylabel='device_id'>"
      ]
     },
     "execution_count": 17,
     "metadata": {},
     "output_type": "execute_result"
    },
    {
     "data": {
      "image/png": "[encoded data removed]",
      "text/plain": [
       "<Figure size 1000x600 with 1 Axes>"
      ]
     },
     "metadata": {},
     "output_type": "display_data"
    }
   ],
   "source": [
    "# Визуализируем количество уникальных пользователей по датам\n",
    "sns.lineplot(x='date', y='device_id', data=dau)"
   ]
  },
  {
   "cell_type": "code",
   "execution_count": 18,
   "id": "8b5ec9f7",
   "metadata": {},
   "outputs": [
    {
     "data": {
      "text/html": [
       "<div>\n",
       "<style scoped>\n",
       "    .dataframe tbody tr th:only-of-type {\n",
       "        vertical-align: middle;\n",
       "    }\n",
       "\n",
       "    .dataframe tbody tr th {\n",
       "        vertical-align: top;\n",
       "    }\n",
       "\n",
       "    .dataframe thead th {\n",
       "        text-align: right;\n",
       "    }\n",
       "</style>\n",
       "<table border=\"1\" class=\"dataframe\">\n",
       "  <thead>\n",
       "    <tr style=\"text-align: right;\">\n",
       "      <th></th>\n",
       "      <th>device_id</th>\n",
       "    </tr>\n",
       "  </thead>\n",
       "  <tbody>\n",
       "    <tr>\n",
       "      <th>count</th>\n",
       "      <td>91.000000</td>\n",
       "    </tr>\n",
       "    <tr>\n",
       "      <th>mean</th>\n",
       "      <td>8228.890110</td>\n",
       "    </tr>\n",
       "    <tr>\n",
       "      <th>std</th>\n",
       "      <td>2671.593259</td>\n",
       "    </tr>\n",
       "    <tr>\n",
       "      <th>min</th>\n",
       "      <td>4445.000000</td>\n",
       "    </tr>\n",
       "    <tr>\n",
       "      <th>25%</th>\n",
       "      <td>6728.000000</td>\n",
       "    </tr>\n",
       "    <tr>\n",
       "      <th>50%</th>\n",
       "      <td>7618.000000</td>\n",
       "    </tr>\n",
       "    <tr>\n",
       "      <th>75%</th>\n",
       "      <td>9128.000000</td>\n",
       "    </tr>\n",
       "    <tr>\n",
       "      <th>max</th>\n",
       "      <td>21431.000000</td>\n",
       "    </tr>\n",
       "  </tbody>\n",
       "</table>\n",
       "</div>"
      ],
      "text/plain": [
       "          device_id\n",
       "count     91.000000\n",
       "mean    8228.890110\n",
       "std     2671.593259\n",
       "min     4445.000000\n",
       "25%     6728.000000\n",
       "50%     7618.000000\n",
       "75%     9128.000000\n",
       "max    21431.000000"
      ]
     },
     "execution_count": 18,
     "metadata": {},
     "output_type": "execute_result"
    }
   ],
   "source": [
    "# На графике есть скачки.\n",
    "# Посмотрим на описательные статистики\n",
    "dau.describe()"
   ]
  },
  {
   "cell_type": "code",
   "execution_count": 19,
   "id": "2df2e6dc",
   "metadata": {},
   "outputs": [
    {
     "data": {
      "text/html": [
       "<div>\n",
       "<style scoped>\n",
       "    .dataframe tbody tr th:only-of-type {\n",
       "        vertical-align: middle;\n",
       "    }\n",
       "\n",
       "    .dataframe tbody tr th {\n",
       "        vertical-align: top;\n",
       "    }\n",
       "\n",
       "    .dataframe thead th {\n",
       "        text-align: right;\n",
       "    }\n",
       "</style>\n",
       "<table border=\"1\" class=\"dataframe\">\n",
       "  <thead>\n",
       "    <tr style=\"text-align: right;\">\n",
       "      <th></th>\n",
       "      <th>date</th>\n",
       "      <th>device_id</th>\n",
       "    </tr>\n",
       "  </thead>\n",
       "  <tbody>\n",
       "    <tr>\n",
       "      <th>9</th>\n",
       "      <td>2020-01-10</td>\n",
       "      <td>21431</td>\n",
       "    </tr>\n",
       "  </tbody>\n",
       "</table>\n",
       "</div>"
      ],
      "text/plain": [
       "        date  device_id\n",
       "9 2020-01-10      21431"
      ]
     },
     "execution_count": 19,
     "metadata": {},
     "output_type": "execute_result"
    }
   ],
   "source": [
    "# Посмотрим в какой день DAU было максимальным\n",
    "dau.query('device_id == 21431')"
   ]
  },
  {
   "cell_type": "code",
   "execution_count": 20,
   "id": "5c476eed",
   "metadata": {},
   "outputs": [
    {
     "data": {
      "text/html": [
       "<div>\n",
       "<style scoped>\n",
       "    .dataframe tbody tr th:only-of-type {\n",
       "        vertical-align: middle;\n",
       "    }\n",
       "\n",
       "    .dataframe tbody tr th {\n",
       "        vertical-align: top;\n",
       "    }\n",
       "\n",
       "    .dataframe thead th {\n",
       "        text-align: right;\n",
       "    }\n",
       "</style>\n",
       "<table border=\"1\" class=\"dataframe\">\n",
       "  <thead>\n",
       "    <tr style=\"text-align: right;\">\n",
       "      <th></th>\n",
       "      <th>date</th>\n",
       "      <th>device_id</th>\n",
       "    </tr>\n",
       "  </thead>\n",
       "  <tbody>\n",
       "    <tr>\n",
       "      <th>0</th>\n",
       "      <td>2020-01-01</td>\n",
       "      <td>4445</td>\n",
       "    </tr>\n",
       "  </tbody>\n",
       "</table>\n",
       "</div>"
      ],
      "text/plain": [
       "        date  device_id\n",
       "0 2020-01-01       4445"
      ]
     },
     "execution_count": 20,
     "metadata": {},
     "output_type": "execute_result"
    }
   ],
   "source": [
    "# Посмотрим в какой день DAU было минимальным\n",
    "dau.query('device_id == 4445')"
   ]
  },
  {
   "cell_type": "code",
   "execution_count": 21,
   "id": "e46164fe",
   "metadata": {},
   "outputs": [
    {
     "data": {
      "text/plain": [
       "525.22"
      ]
     },
     "execution_count": 21,
     "metadata": {},
     "output_type": "execute_result"
    }
   ],
   "source": [
    "# Посчитаем ARPU за весь период\n",
    "ARPU = round(df['purchase_sum'].sum() / df['device_id'].nunique(), 2)\n",
    "ARPU "
   ]
  },
  {
   "cell_type": "code",
   "execution_count": 22,
   "id": "bbcab44b",
   "metadata": {},
   "outputs": [
    {
     "data": {
      "text/plain": [
       "1414.56"
      ]
     },
     "execution_count": 22,
     "metadata": {},
     "output_type": "execute_result"
    }
   ],
   "source": [
    "# Посчитаем ARPPU за весь период\n",
    "ARPPU = round(df['purchase_sum'].sum() / df[df.purchase_sum.notna()]['device_id'].nunique(), 2)\n",
    "ARPPU"
   ]
  },
  {
   "cell_type": "code",
   "execution_count": 42,
   "id": "971d15ea",
   "metadata": {},
   "outputs": [],
   "source": [
    "# Посмотрим на конверсию воронки продаж\n",
    "first_reg = df.query('event == \"register\"').sort_values('date').drop_duplicates('device_id')"
   ]
  },
  {
   "cell_type": "code",
   "execution_count": 43,
   "id": "f44b4277",
   "metadata": {},
   "outputs": [],
   "source": [
    "df['first_reg'] = df['device_id'].map(first_reg.set_index('device_id')['date'])"
   ]
  },
  {
   "cell_type": "code",
   "execution_count": 25,
   "id": "a85cb92e",
   "metadata": {},
   "outputs": [],
   "source": [
    "already_reg = df[df.first_reg < df.date]"
   ]
  },
  {
   "cell_type": "code",
   "execution_count": 26,
   "id": "7843ca86",
   "metadata": {},
   "outputs": [],
   "source": [
    "already_reg = already_reg.groupby('event')['device_id'].nunique().reset_index().set_index('event')"
   ]
  },
  {
   "cell_type": "code",
   "execution_count": 27,
   "id": "39ca541a",
   "metadata": {},
   "outputs": [],
   "source": [
    "already_reg = already_reg.T"
   ]
  },
  {
   "cell_type": "code",
   "execution_count": 28,
   "id": "c2747691",
   "metadata": {},
   "outputs": [
    {
     "data": {
      "text/html": [
       "<div>\n",
       "<style scoped>\n",
       "    .dataframe tbody tr th:only-of-type {\n",
       "        vertical-align: middle;\n",
       "    }\n",
       "\n",
       "    .dataframe tbody tr th {\n",
       "        vertical-align: top;\n",
       "    }\n",
       "\n",
       "    .dataframe thead th {\n",
       "        text-align: right;\n",
       "    }\n",
       "</style>\n",
       "<table border=\"1\" class=\"dataframe\">\n",
       "  <thead>\n",
       "    <tr style=\"text-align: right;\">\n",
       "      <th>event</th>\n",
       "      <th>app_start</th>\n",
       "      <th>choose_item</th>\n",
       "      <th>purchase</th>\n",
       "      <th>search</th>\n",
       "      <th>tap_basket</th>\n",
       "    </tr>\n",
       "  </thead>\n",
       "  <tbody>\n",
       "    <tr>\n",
       "      <th>device_id</th>\n",
       "      <td>40991</td>\n",
       "      <td>37926</td>\n",
       "      <td>24880</td>\n",
       "      <td>40482</td>\n",
       "      <td>34517</td>\n",
       "    </tr>\n",
       "  </tbody>\n",
       "</table>\n",
       "</div>"
      ],
      "text/plain": [
       "event      app_start  choose_item  purchase  search  tap_basket\n",
       "device_id      40991        37926     24880   40482       34517"
      ]
     },
     "execution_count": 28,
     "metadata": {},
     "output_type": "execute_result"
    }
   ],
   "source": [
    "already_reg"
   ]
  },
  {
   "cell_type": "code",
   "execution_count": 29,
   "id": "715c1590",
   "metadata": {},
   "outputs": [
    {
     "name": "stdout",
     "output_type": "stream",
     "text": [
      "Конверсия в поиск из в открытия приложения device_id    0.99\n",
      "dtype: float64\n"
     ]
    }
   ],
   "source": [
    "print('Конверсия в поиск из открытия приложения', round(already_reg['search'] / already_reg['app_start'], 2))"
   ]
  },
  {
   "cell_type": "code",
   "execution_count": 235,
   "id": "9d9879a5",
   "metadata": {},
   "outputs": [
    {
     "name": "stdout",
     "output_type": "stream",
     "text": [
      "Конверсия из поиска в выбор товара device_id    0.94\n",
      "dtype: float64\n"
     ]
    }
   ],
   "source": [
    "print('Конверсия из поиска в выбор товара', round(already_reg['choose_item'] / already_reg['search'], 2))"
   ]
  },
  {
   "cell_type": "code",
   "execution_count": 30,
   "id": "2d6e7a92",
   "metadata": {},
   "outputs": [
    {
     "name": "stdout",
     "output_type": "stream",
     "text": [
      "Конверсия из выбора товара в добавление в корзину device_id    0.91\n",
      "dtype: float64\n"
     ]
    }
   ],
   "source": [
    "print('Конверсия из выбора товара в добавление в корзину', round(already_reg['tap_basket'] / already_reg['choose_item'], 2))"
   ]
  },
  {
   "cell_type": "code",
   "execution_count": 31,
   "id": "82327e0f",
   "metadata": {},
   "outputs": [
    {
     "name": "stdout",
     "output_type": "stream",
     "text": [
      "Конверсия в покупку из добавления в корзину device_id    0.72\n",
      "dtype: float64\n"
     ]
    }
   ],
   "source": [
    "print('Конверсия в покупку из добавления в корзину', round(already_reg['purchase'] / already_reg['tap_basket'], 2))"
   ]
  },
  {
   "cell_type": "code",
   "execution_count": 244,
   "id": "06d02d07",
   "metadata": {},
   "outputs": [],
   "source": [
    "# Самый маленький СR в покупку из добавления в корзину"
   ]
  },
  {
   "cell_type": "markdown",
   "id": "205c8128",
   "metadata": {},
   "source": [
    "Имеются данные по затратам на рекламу:\n",
    "1. Яндекс – 10 491 707 руб.\n",
    "2. Гугл – 10 534 878 руб.\n",
    "3. Фейсбук – 8 590 498 руб.\n",
    "4. Инстаграм – 8 561626 руб.\n",
    "5. ВК – 9 553 531руб."
   ]
  },
  {
   "cell_type": "code",
   "execution_count": 32,
   "id": "ac5cea02",
   "metadata": {},
   "outputs": [
    {
     "data": {
      "text/plain": [
       "utm_source\n",
       "-                21449749.5\n",
       "facebook_ads     12249901.0\n",
       "google_ads       12868276.0\n",
       "instagram_ads    14546969.0\n",
       "referal           8837044.5\n",
       "vk_ads           16389652.5\n",
       "yandex-direct    13915368.0\n",
       "Name: purchase_sum, dtype: float64"
      ]
     },
     "execution_count": 32,
     "metadata": {},
     "output_type": "execute_result"
    }
   ],
   "source": [
    "# Сгруппируем данные по каналу привлечения и посчитаем доход.\n",
    "df.groupby('utm_source')['purchase_sum'].sum()"
   ]
  },
  {
   "cell_type": "code",
   "execution_count": 41,
   "id": "93f38837",
   "metadata": {},
   "outputs": [
    {
     "name": "stdout",
     "output_type": "stream",
     "text": [
      "ROMI facebook_ads равен 42.6 %\n",
      "ROMI google_ads 22.15 %\n",
      "ROMI instagram_ads 69.91 %\n",
      "ROMI vk_ads 71.56 %\n"
     ]
    }
   ],
   "source": [
    "# Посчитаем ROMI для каждого платного канала\n",
    "print('ROMI facebook_ads', round((12249901 - 8590498)/8590498*100, 2),\"%\")\n",
    "print('ROMI google_ads', round((12868276 - 10534878)/10534878*100, 2), \"%\")\n",
    "print('ROMI instagram_ads', round((14546969 - 8561626)/8561626*100, 2), \"%\")\n",
    "print('ROMI vk_ads', round((16389652.5 - 9553531)/9553531*100, 2), \"%\")"
   ]
  },
  {
   "cell_type": "code",
   "execution_count": null,
   "id": "8dc05256",
   "metadata": {},
   "outputs": [],
   "source": [
    "# Посчитаем CPA и CAC"
   ]
  },
  {
   "cell_type": "code",
   "execution_count": 59,
   "id": "23599f63",
   "metadata": {},
   "outputs": [
    {
     "name": "stdout",
     "output_type": "stream",
     "text": [
      "CPA yandex-direct 257.71\n",
      "CPA google_ads  276.54\n",
      "CPA facebook_ads  330.93\n",
      "CPA instagram_ads  275.75\n",
      "CPA vk_ads 280.28\n"
     ]
    }
   ],
   "source": [
    "print('CPA yandex-direct', round((10491707)/df.query('utm_source == \"yandex-direct\"')['device_id'].nunique(), 2))\n",
    "print('CPA google_ads ', round((10534878)/df.query('utm_source == \"google_ads\"')['device_id'].nunique(), 2))\n",
    "print('CPA facebook_ads ', round((8590498)/df.query('utm_source == \"facebook_ads\"')['device_id'].nunique(), 2))\n",
    "print('CPA instagram_ads ', round((8561626)/df.query('utm_source == \"instagram_ads\"')['device_id'].nunique(), 2))\n",
    "print('CPA vk_ads', round((9553531)/df.query('utm_source == \"vk_ads\"')['device_id'].nunique(), 2))"
   ]
  },
  {
   "cell_type": "code",
   "execution_count": 60,
   "id": "1066e7bf",
   "metadata": {},
   "outputs": [
    {
     "name": "stdout",
     "output_type": "stream",
     "text": [
      "CAC yandex-direct 872.27\n",
      "CAC google_ads 875.86\n",
      "CAC facebook_ads 714.21\n",
      "CAC instagram_ads 711.81\n",
      "CAC vk_ads 794.27\n"
     ]
    }
   ],
   "source": [
    "print('CAC yandex-direct', round((10491707)/df[df.purchase_sum.notna()]\n",
    "                                 .query('utm_source == \"yandex-direct\"')['device_id'].nunique(), 2))\n",
    "print('CAC google_ads', round((10534878)/df[df.purchase_sum.notna()]\n",
    "                                 .query('utm_source == \"yandex-direct\"')['device_id'].nunique(), 2))\n",
    "print('CAC facebook_ads', round((8590498)/df[df.purchase_sum.notna()]\n",
    "                                 .query('utm_source == \"yandex-direct\"')['device_id'].nunique(), 2))\n",
    "print('CAC instagram_ads', round((8561626)/df[df.purchase_sum.notna()]\n",
    "                                 .query('utm_source == \"yandex-direct\"')['device_id'].nunique(), 2))\n",
    "print('CAC vk_ads', round((9553531)/df[df.purchase_sum.notna()]\n",
    "                                 .query('utm_source == \"yandex-direct\"')['device_id'].nunique(), 2))"
   ]
  },
  {
   "cell_type": "markdown",
   "id": "2ccfe9dd",
   "metadata": {},
   "source": [
    "Выводы:\n",
    "1. В январе по сравнению с февралем и мартом самое высокое значение MAU.\n",
    "2. Минимальное значение DAU 1 января, что объясняется началом выходных и праздничных дней, а скачок DAU 10 января совпадает с окончанием зимних каникул.\n",
    "3. Такие факторы как: платформа, пол и город, а также их взаимодействие не оказали значимого влияния на сумму трат клиентов.\n",
    "4. ARPU и ARPPU составили 525.22 и 1414.56 соответственно.\n",
    "5. Больше всего дохода (из платных источников) принесли клиенты, пришедшие из рекламы в ВК, а меньше всего клиенты, пришедшие с акции \"приведи друга\".\n",
    "6. Самый маленький СR в покупку из добавления в корзину.\n",
    "7. Самое высокое значение ROMI у канала ВК.\n",
    "8. По метрике CPA самый эффективный канал привлечения Яндекс, по CAC инстаграм."
   ]
  }
 ],
 "metadata": {
  "kernelspec": {
   "display_name": "Python 3 (ipykernel)",
   "language": "python",
   "name": "python3"
  },
  "language_info": {
   "codemirror_mode": {
    "name": "ipython",
    "version": 3
   },
   "file_extension": ".py",
   "mimetype": "text/x-python",
   "name": "python",
   "nbconvert_exporter": "python",
   "pygments_lexer": "ipython3",
   "version": "3.10.9"
  }
 },
 "nbformat": 4,
 "nbformat_minor": 5
}
